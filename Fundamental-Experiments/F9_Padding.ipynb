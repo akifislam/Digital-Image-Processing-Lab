{
 "cells": [
  {
   "cell_type": "markdown",
   "metadata": {},
   "source": [
    "# Load Image"
   ]
  },
  {
   "cell_type": "code",
   "execution_count": 41,
   "metadata": {},
   "outputs": [
    {
     "data": {
      "text/plain": [
       "array([ 1,  2,  3,  4,  5,  6,  7,  8,  9, 10, 11, 12, 13, 14, 15, 16, 17,\n",
       "       18, 19, 20, 21, 22, 23, 24, 25])"
      ]
     },
     "execution_count": 41,
     "metadata": {},
     "output_type": "execute_result"
    }
   ],
   "source": [
    "import numpy as np\n",
    "numbers = np.arange(1,26)\n",
    "numbers"
   ]
  },
  {
   "cell_type": "code",
   "execution_count": 42,
   "metadata": {},
   "outputs": [
    {
     "data": {
      "text/plain": [
       "array([[ 1,  2,  3,  4,  5],\n",
       "       [ 6,  7,  8,  9, 10],\n",
       "       [11, 12, 13, 14, 15],\n",
       "       [16, 17, 18, 19, 20],\n",
       "       [21, 22, 23, 24, 25]])"
      ]
     },
     "execution_count": 42,
     "metadata": {},
     "output_type": "execute_result"
    }
   ],
   "source": [
    "img = numbers.reshape(5,5)\n",
    "img"
   ]
  },
  {
   "cell_type": "markdown",
   "metadata": {},
   "source": [
    "# 0 Padding"
   ]
  },
  {
   "cell_type": "code",
   "execution_count": 43,
   "metadata": {},
   "outputs": [
    {
     "data": {
      "text/plain": [
       "array([[ 0,  0,  0,  0,  0,  0,  0],\n",
       "       [ 0,  1,  2,  3,  4,  5,  0],\n",
       "       [ 0,  6,  7,  8,  9, 10,  0],\n",
       "       [ 0, 11, 12, 13, 14, 15,  0],\n",
       "       [ 0, 16, 17, 18, 19, 20,  0],\n",
       "       [ 0, 21, 22, 23, 24, 25,  0],\n",
       "       [ 0,  0,  0,  0,  0,  0,  0]])"
      ]
     },
     "execution_count": 43,
     "metadata": {},
     "output_type": "execute_result"
    }
   ],
   "source": [
    "zero_pad_img = img.copy()\n",
    "\n",
    "height,width = zero_pad_img.shape\n",
    "\n",
    "# Top Row - 0 Padding\n",
    "top_down_pad = np.zeros(shape=(1,width),dtype='int')\n",
    "zero_pad_img = np.vstack((top_down_pad,zero_pad_img))\n",
    "\n",
    "# Bottom Row - 0 Padding\n",
    "zero_pad_img = np.vstack((zero_pad_img,top_down_pad))\n",
    "\n",
    "# Left Row - 0 Padding\n",
    "left_right_pad = np.zeros((height+2,1),dtype='int')\n",
    "zero_pad_img = np.concatenate((left_right_pad,zero_pad_img),axis=1)\n",
    "zero_pad_img = np.concatenate((zero_pad_img,left_right_pad),axis=1)\n",
    "\n",
    "zero_pad_img"
   ]
  },
  {
   "cell_type": "markdown",
   "metadata": {},
   "source": [
    "# 1 Padding"
   ]
  },
  {
   "cell_type": "code",
   "execution_count": 44,
   "metadata": {},
   "outputs": [
    {
     "data": {
      "text/plain": [
       "array([[ 1,  1,  1,  1,  1,  1,  1],\n",
       "       [ 1,  1,  2,  3,  4,  5,  1],\n",
       "       [ 1,  6,  7,  8,  9, 10,  1],\n",
       "       [ 1, 11, 12, 13, 14, 15,  1],\n",
       "       [ 1, 16, 17, 18, 19, 20,  1],\n",
       "       [ 1, 21, 22, 23, 24, 25,  1],\n",
       "       [ 1,  1,  1,  1,  1,  1,  1]])"
      ]
     },
     "execution_count": 44,
     "metadata": {},
     "output_type": "execute_result"
    }
   ],
   "source": [
    "one_pad_img = img.copy()\n",
    "\n",
    "height,width = one_pad_img.shape\n",
    "\n",
    "# Top Row - 0 Padding\n",
    "top_down_pad = np.ones(shape=(1,width),dtype='int')\n",
    "one_pad_img = np.vstack((top_down_pad,one_pad_img))\n",
    "\n",
    "# Bottom Row - 0 Padding\n",
    "one_pad_img = np.vstack((one_pad_img,top_down_pad))\n",
    "\n",
    "# Left Row - 0 Padding\n",
    "left_right_pad = np.ones((height+2,1),dtype='int')\n",
    "one_pad_img = np.concatenate((left_right_pad,one_pad_img),axis=1)\n",
    "one_pad_img = np.concatenate((one_pad_img,left_right_pad),axis=1)\n",
    "\n",
    "one_pad_img"
   ]
  },
  {
   "cell_type": "code",
   "execution_count": 45,
   "metadata": {},
   "outputs": [
    {
     "data": {
      "text/plain": [
       "array([[ 1,  2,  3,  4,  5],\n",
       "       [ 6,  7,  8,  9, 10],\n",
       "       [11, 12, 13, 14, 15],\n",
       "       [16, 17, 18, 19, 20],\n",
       "       [21, 22, 23, 24, 25]])"
      ]
     },
     "execution_count": 45,
     "metadata": {},
     "output_type": "execute_result"
    }
   ],
   "source": [
    "img"
   ]
  },
  {
   "cell_type": "markdown",
   "metadata": {},
   "source": [
    "# Mirror Padding"
   ]
  },
  {
   "cell_type": "code",
   "execution_count": 46,
   "metadata": {},
   "outputs": [
    {
     "data": {
      "text/plain": [
       "array([[ 1,  2,  3,  4,  5],\n",
       "       [ 6,  7,  8,  9, 10],\n",
       "       [11, 12, 13, 14, 15],\n",
       "       [16, 17, 18, 19, 20],\n",
       "       [21, 22, 23, 24, 25]])"
      ]
     },
     "execution_count": 46,
     "metadata": {},
     "output_type": "execute_result"
    }
   ],
   "source": [
    "mirror_pad_img = img.copy()\n",
    "mirror_pad_img"
   ]
  },
  {
   "cell_type": "markdown",
   "metadata": {},
   "source": [
    "### First Row"
   ]
  },
  {
   "cell_type": "code",
   "execution_count": 47,
   "metadata": {},
   "outputs": [
    {
     "data": {
      "text/plain": [
       "array([1, 2, 3, 4, 5])"
      ]
     },
     "execution_count": 47,
     "metadata": {},
     "output_type": "execute_result"
    }
   ],
   "source": [
    "mirror_pad_img[0,:] # First Row"
   ]
  },
  {
   "cell_type": "markdown",
   "metadata": {},
   "source": [
    "### First Column"
   ]
  },
  {
   "cell_type": "code",
   "execution_count": 48,
   "metadata": {},
   "outputs": [
    {
     "data": {
      "text/plain": [
       "array([ 1,  6, 11, 16, 21])"
      ]
     },
     "execution_count": 48,
     "metadata": {},
     "output_type": "execute_result"
    }
   ],
   "source": [
    "mirror_pad_img[:,0] # First Column"
   ]
  },
  {
   "cell_type": "code",
   "execution_count": 58,
   "metadata": {},
   "outputs": [
    {
     "data": {
      "text/plain": [
       "array([21, 22, 23, 24, 25])"
      ]
     },
     "execution_count": 58,
     "metadata": {},
     "output_type": "execute_result"
    }
   ],
   "source": [
    "mirror_pad_img[-1,:]"
   ]
  },
  {
   "cell_type": "code",
   "execution_count": 60,
   "metadata": {},
   "outputs": [
    {
     "data": {
      "text/plain": [
       "array([21, 22, 23, 24, 25])"
      ]
     },
     "execution_count": 60,
     "metadata": {},
     "output_type": "execute_result"
    }
   ],
   "source": [
    "mirror_pad_img[-1,:]"
   ]
  },
  {
   "cell_type": "code",
   "execution_count": 76,
   "metadata": {},
   "outputs": [],
   "source": [
    "def wrap_padding(mat,mask_size):\n",
    "\n",
    "    mirror_pad_img = mat.copy()\n",
    "    \n",
    "    no_of_pad_line = mask_size//2\n",
    "\n",
    "    # Add Left Column by taking Right most\n",
    "    to_pad_left = mirror_pad_img[:,-no_of_pad_line:]\n",
    "\n",
    "    # Add Left Column by taking Right most\n",
    "    to_pad_right = mirror_pad_img[:,0:no_of_pad_line]\n",
    "\n",
    "    mirror_pad_img = np.concatenate((to_pad_left,mirror_pad_img),axis=1)\n",
    "    mirror_pad_img = np.concatenate((mirror_pad_img,to_pad_right),axis=1)\n",
    "\n",
    "    # Add Top Column by taking the bottom most\n",
    "    to_pad_down = mirror_pad_img[-no_of_pad_line,:]\n",
    "\n",
    "    # Add Bottom Column by taking the up most\n",
    "    to_pad_up = mirror_pad_img[0:no_of_pad_line,:]\n",
    "    \n",
    "    mirror_pad_img = np.concatenate((to_pad_up,mirror_pad_img),axis=0)\n",
    "    mirror_pad_img = np.concatenate((mirror_pad_img,to_pad_down),axis=0)\n",
    "    \n",
    "    return mirror_pad_img"
   ]
  },
  {
   "cell_type": "code",
   "execution_count": 77,
   "metadata": {},
   "outputs": [
    {
     "data": {
      "text/plain": [
       "array([[ 1,  2,  3,  4,  5],\n",
       "       [ 6,  7,  8,  9, 10],\n",
       "       [11, 12, 13, 14, 15],\n",
       "       [16, 17, 18, 19, 20],\n",
       "       [21, 22, 23, 24, 25]])"
      ]
     },
     "execution_count": 77,
     "metadata": {},
     "output_type": "execute_result"
    }
   ],
   "source": [
    "mirror_pad_img"
   ]
  },
  {
   "cell_type": "code",
   "execution_count": 78,
   "metadata": {},
   "outputs": [
    {
     "ename": "ValueError",
     "evalue": "all the input arrays must have same number of dimensions, but the array at index 0 has 2 dimension(s) and the array at index 1 has 1 dimension(s)",
     "output_type": "error",
     "traceback": [
      "\u001b[0;31m---------------------------------------------------------------------------\u001b[0m",
      "\u001b[0;31mValueError\u001b[0m                                Traceback (most recent call last)",
      "\u001b[1;32m/Users/akif/CSERU32/DIP-Lab-Github/Fundamental-Experiments/F9_Padding.ipynb Cell 19\u001b[0m line \u001b[0;36m1\n\u001b[0;32m----> <a href='vscode-notebook-cell:/Users/akif/CSERU32/DIP-Lab-Github/Fundamental-Experiments/F9_Padding.ipynb#X26sZmlsZQ%3D%3D?line=0'>1</a>\u001b[0m x \u001b[39m=\u001b[39m wrap_padding(mirror_pad_img,\u001b[39m3\u001b[39;49m)\n\u001b[1;32m      <a href='vscode-notebook-cell:/Users/akif/CSERU32/DIP-Lab-Github/Fundamental-Experiments/F9_Padding.ipynb#X26sZmlsZQ%3D%3D?line=2'>3</a>\u001b[0m \u001b[39m# Add Top Column by taking the bottom most\u001b[39;00m\n\u001b[1;32m      <a href='vscode-notebook-cell:/Users/akif/CSERU32/DIP-Lab-Github/Fundamental-Experiments/F9_Padding.ipynb#X26sZmlsZQ%3D%3D?line=3'>4</a>\u001b[0m to_pad_down \u001b[39m=\u001b[39m x[\u001b[39m-\u001b[39m\u001b[39m1\u001b[39m,:]\n",
      "\u001b[1;32m/Users/akif/CSERU32/DIP-Lab-Github/Fundamental-Experiments/F9_Padding.ipynb Cell 19\u001b[0m line \u001b[0;36m2\n\u001b[1;32m     <a href='vscode-notebook-cell:/Users/akif/CSERU32/DIP-Lab-Github/Fundamental-Experiments/F9_Padding.ipynb#X26sZmlsZQ%3D%3D?line=19'>20</a>\u001b[0m to_pad_up \u001b[39m=\u001b[39m mirror_pad_img[\u001b[39m0\u001b[39m:no_of_pad_line,:]\n\u001b[1;32m     <a href='vscode-notebook-cell:/Users/akif/CSERU32/DIP-Lab-Github/Fundamental-Experiments/F9_Padding.ipynb#X26sZmlsZQ%3D%3D?line=21'>22</a>\u001b[0m mirror_pad_img \u001b[39m=\u001b[39m np\u001b[39m.\u001b[39mconcatenate((to_pad_up,mirror_pad_img),axis\u001b[39m=\u001b[39m\u001b[39m0\u001b[39m)\n\u001b[0;32m---> <a href='vscode-notebook-cell:/Users/akif/CSERU32/DIP-Lab-Github/Fundamental-Experiments/F9_Padding.ipynb#X26sZmlsZQ%3D%3D?line=22'>23</a>\u001b[0m mirror_pad_img \u001b[39m=\u001b[39m np\u001b[39m.\u001b[39;49mconcatenate((mirror_pad_img,to_pad_down),axis\u001b[39m=\u001b[39;49m\u001b[39m0\u001b[39;49m)\n\u001b[1;32m     <a href='vscode-notebook-cell:/Users/akif/CSERU32/DIP-Lab-Github/Fundamental-Experiments/F9_Padding.ipynb#X26sZmlsZQ%3D%3D?line=24'>25</a>\u001b[0m \u001b[39mreturn\u001b[39;00m mirror_pad_img\n",
      "File \u001b[0;32m<__array_function__ internals>:180\u001b[0m, in \u001b[0;36mconcatenate\u001b[0;34m(*args, **kwargs)\u001b[0m\n",
      "\u001b[0;31mValueError\u001b[0m: all the input arrays must have same number of dimensions, but the array at index 0 has 2 dimension(s) and the array at index 1 has 1 dimension(s)"
     ]
    }
   ],
   "source": [
    "x = wrap_padding(mirror_pad_img,3)\n",
    "\n",
    "# Add Top Column by taking the bottom most\n",
    "to_pad_down = x[-1,:]\n",
    "\n",
    "# Add Bottom Column by taking the up most\n",
    "to_pad_up = x[0:1,:]\n",
    "x = np.concatenate((x,to_pad_up),axis=0)\n",
    "# x= np.concatenate((x,to_pad_down),axis=0)\n",
    "x"
   ]
  },
  {
   "cell_type": "code",
   "execution_count": 83,
   "metadata": {},
   "outputs": [
    {
     "name": "stdout",
     "output_type": "stream",
     "text": [
      "[[9 7 8 9 7]\n",
      " [3 1 2 3 1]\n",
      " [6 4 5 6 4]\n",
      " [9 7 8 9 7]\n",
      " [3 1 2 3 1]]\n"
     ]
    }
   ],
   "source": [
    "import numpy as np\n",
    "mask = 3\n",
    "ml = mask//2\n",
    "mr = ml+1\n",
    "\n",
    "# Create a 3x3 matrix with values from 1 to 9\n",
    "matrix = np.array([[1, 2, 3],\n",
    "                   [4, 5, 6],\n",
    "                   [7, 8, 9]])\n",
    "\n",
    "# Specify the padding values for each side (top, bottom, left, right)\n",
    "# In this example, let's add a 1-unit wide border of zeros around the matrix\n",
    "pad_width = ml\n",
    "\n",
    "# Use np.pad to add padding to the matrix\n",
    "padded_matrix = np.pad(matrix, pad_width, mode='wrap')\n",
    "\n",
    "# Print the padded matrix\n",
    "print(padded_matrix)"
   ]
  },
  {
   "cell_type": "code",
   "execution_count": 89,
   "metadata": {},
   "outputs": [],
   "source": [
    "h,w = padded_matrix.shape"
   ]
  },
  {
   "cell_type": "code",
   "execution_count": 95,
   "metadata": {},
   "outputs": [
    {
     "data": {
      "text/plain": [
       "array([[1, 2, 3],\n",
       "       [4, 5, 6],\n",
       "       [7, 8, 9]])"
      ]
     },
     "execution_count": 95,
     "metadata": {},
     "output_type": "execute_result"
    }
   ],
   "source": [
    "padded_matrix[1:h-1,1:w-1]"
   ]
  },
  {
   "cell_type": "markdown",
   "metadata": {},
   "source": []
  },
  {
   "cell_type": "code",
   "execution_count": 86,
   "metadata": {},
   "outputs": [
    {
     "name": "stdout",
     "output_type": "stream",
     "text": [
      "1,2,3,4,5,6,7,8,9,"
     ]
    }
   ],
   "source": [
    "for i in range(ml,height-ml):\n",
    "    for j in range(ml,width-ml):\n",
    "        print(padded_matrix[i][j],end=\",\")"
   ]
  },
  {
   "cell_type": "code",
   "execution_count": null,
   "metadata": {},
   "outputs": [],
   "source": []
  }
 ],
 "metadata": {
  "kernelspec": {
   "display_name": "Python 3",
   "language": "python",
   "name": "python3"
  },
  "language_info": {
   "codemirror_mode": {
    "name": "ipython",
    "version": 3
   },
   "file_extension": ".py",
   "mimetype": "text/x-python",
   "name": "python",
   "nbconvert_exporter": "python",
   "pygments_lexer": "ipython3",
   "version": "3.9.6"
  },
  "orig_nbformat": 4
 },
 "nbformat": 4,
 "nbformat_minor": 2
}
