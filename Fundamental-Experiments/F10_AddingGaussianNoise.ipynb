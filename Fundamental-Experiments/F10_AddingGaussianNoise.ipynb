{
 "cells": [
  {
   "cell_type": "code",
   "execution_count": 16,
   "metadata": {},
   "outputs": [],
   "source": [
    "import cv2\n",
    "import numpy as np\n",
    "import matplotlib.pyplot as plt\n",
    "\n",
    "img = cv2.imread(\"../Resource-Images/Mini.jpg\")\n",
    "img = cv2.cvtColor(img,cv2.COLOR_BGR2GRAY)\n",
    "img = cv2.resize(img,(512,512))"
   ]
  },
  {
   "cell_type": "code",
   "execution_count": 22,
   "metadata": {},
   "outputs": [
    {
     "data": {
      "text/plain": [
       "[<matplotlib.lines.Line2D at 0x1278e8460>,\n",
       " <matplotlib.lines.Line2D at 0x1278e84c0>,\n",
       " <matplotlib.lines.Line2D at 0x1278e84f0>,\n",
       " <matplotlib.lines.Line2D at 0x1278e85e0>,\n",
       " <matplotlib.lines.Line2D at 0x1278e86d0>,\n",
       " <matplotlib.lines.Line2D at 0x1278e87c0>,\n",
       " <matplotlib.lines.Line2D at 0x1278e88b0>,\n",
       " <matplotlib.lines.Line2D at 0x1278e89a0>,\n",
       " <matplotlib.lines.Line2D at 0x1278e8a90>,\n",
       " <matplotlib.lines.Line2D at 0x1278e8b80>,\n",
       " <matplotlib.lines.Line2D at 0x1278e8c70>,\n",
       " <matplotlib.lines.Line2D at 0x1278e8490>,\n",
       " <matplotlib.lines.Line2D at 0x1278e8d60>,\n",
       " <matplotlib.lines.Line2D at 0x1278e8f10>,\n",
       " <matplotlib.lines.Line2D at 0x1278ee040>,\n",
       " <matplotlib.lines.Line2D at 0x1278ee130>,\n",
       " <matplotlib.lines.Line2D at 0x1278ee220>,\n",
       " <matplotlib.lines.Line2D at 0x1278ee310>,\n",
       " <matplotlib.lines.Line2D at 0x1278ee400>,\n",
       " <matplotlib.lines.Line2D at 0x1278ee4f0>,\n",
       " <matplotlib.lines.Line2D at 0x1278ee5e0>,\n",
       " <matplotlib.lines.Line2D at 0x1278ee6d0>,\n",
       " <matplotlib.lines.Line2D at 0x1278ee7c0>,\n",
       " <matplotlib.lines.Line2D at 0x1278ee8b0>,\n",
       " <matplotlib.lines.Line2D at 0x1278ee9a0>,\n",
       " <matplotlib.lines.Line2D at 0x1278eea90>,\n",
       " <matplotlib.lines.Line2D at 0x1278eeb80>,\n",
       " <matplotlib.lines.Line2D at 0x1278eec70>,\n",
       " <matplotlib.lines.Line2D at 0x1278eed60>,\n",
       " <matplotlib.lines.Line2D at 0x1278eee50>,\n",
       " <matplotlib.lines.Line2D at 0x1278eef40>,\n",
       " <matplotlib.lines.Line2D at 0x1278f7070>,\n",
       " <matplotlib.lines.Line2D at 0x1278f7160>,\n",
       " <matplotlib.lines.Line2D at 0x1278f7250>,\n",
       " <matplotlib.lines.Line2D at 0x1278f7340>,\n",
       " <matplotlib.lines.Line2D at 0x1278f7430>,\n",
       " <matplotlib.lines.Line2D at 0x1278f7520>,\n",
       " <matplotlib.lines.Line2D at 0x1278f7610>,\n",
       " <matplotlib.lines.Line2D at 0x1278f7700>,\n",
       " <matplotlib.lines.Line2D at 0x1278f77f0>,\n",
       " <matplotlib.lines.Line2D at 0x1278f78e0>,\n",
       " <matplotlib.lines.Line2D at 0x1278f79d0>,\n",
       " <matplotlib.lines.Line2D at 0x1278f7ac0>,\n",
       " <matplotlib.lines.Line2D at 0x1278f7bb0>,\n",
       " <matplotlib.lines.Line2D at 0x1278f7ca0>,\n",
       " <matplotlib.lines.Line2D at 0x1278f7d90>,\n",
       " <matplotlib.lines.Line2D at 0x1278f7e80>,\n",
       " <matplotlib.lines.Line2D at 0x1278f7f70>,\n",
       " <matplotlib.lines.Line2D at 0x1278fe0a0>,\n",
       " <matplotlib.lines.Line2D at 0x1278fe190>,\n",
       " <matplotlib.lines.Line2D at 0x1278fe280>,\n",
       " <matplotlib.lines.Line2D at 0x1278fe370>,\n",
       " <matplotlib.lines.Line2D at 0x1278fe460>,\n",
       " <matplotlib.lines.Line2D at 0x1278fe550>,\n",
       " <matplotlib.lines.Line2D at 0x1278fe640>,\n",
       " <matplotlib.lines.Line2D at 0x1278fe730>,\n",
       " <matplotlib.lines.Line2D at 0x1278fe820>,\n",
       " <matplotlib.lines.Line2D at 0x1278fe910>,\n",
       " <matplotlib.lines.Line2D at 0x1278fea00>,\n",
       " <matplotlib.lines.Line2D at 0x1278feaf0>,\n",
       " <matplotlib.lines.Line2D at 0x1278febe0>,\n",
       " <matplotlib.lines.Line2D at 0x1278fecd0>,\n",
       " <matplotlib.lines.Line2D at 0x1278fedc0>,\n",
       " <matplotlib.lines.Line2D at 0x1278feeb0>,\n",
       " <matplotlib.lines.Line2D at 0x1278fefa0>,\n",
       " <matplotlib.lines.Line2D at 0x1279050d0>,\n",
       " <matplotlib.lines.Line2D at 0x1279051c0>,\n",
       " <matplotlib.lines.Line2D at 0x1279052b0>,\n",
       " <matplotlib.lines.Line2D at 0x1279053a0>,\n",
       " <matplotlib.lines.Line2D at 0x127905490>,\n",
       " <matplotlib.lines.Line2D at 0x127905580>,\n",
       " <matplotlib.lines.Line2D at 0x127905670>,\n",
       " <matplotlib.lines.Line2D at 0x127905760>,\n",
       " <matplotlib.lines.Line2D at 0x127905850>,\n",
       " <matplotlib.lines.Line2D at 0x127905940>,\n",
       " <matplotlib.lines.Line2D at 0x127905a30>,\n",
       " <matplotlib.lines.Line2D at 0x127905b20>,\n",
       " <matplotlib.lines.Line2D at 0x127905c10>,\n",
       " <matplotlib.lines.Line2D at 0x127905d00>,\n",
       " <matplotlib.lines.Line2D at 0x127905df0>,\n",
       " <matplotlib.lines.Line2D at 0x127905ee0>,\n",
       " <matplotlib.lines.Line2D at 0x127905fd0>,\n",
       " <matplotlib.lines.Line2D at 0x12790e100>,\n",
       " <matplotlib.lines.Line2D at 0x12790e1f0>,\n",
       " <matplotlib.lines.Line2D at 0x12790e2e0>,\n",
       " <matplotlib.lines.Line2D at 0x12790e3d0>,\n",
       " <matplotlib.lines.Line2D at 0x12790e4c0>,\n",
       " <matplotlib.lines.Line2D at 0x12790e5b0>,\n",
       " <matplotlib.lines.Line2D at 0x12790e6a0>,\n",
       " <matplotlib.lines.Line2D at 0x12790e790>,\n",
       " <matplotlib.lines.Line2D at 0x12790e880>,\n",
       " <matplotlib.lines.Line2D at 0x12790e970>,\n",
       " <matplotlib.lines.Line2D at 0x12790ea60>,\n",
       " <matplotlib.lines.Line2D at 0x12790eb50>,\n",
       " <matplotlib.lines.Line2D at 0x12790ec40>,\n",
       " <matplotlib.lines.Line2D at 0x12790ed30>,\n",
       " <matplotlib.lines.Line2D at 0x12790ee20>,\n",
       " <matplotlib.lines.Line2D at 0x12790ef10>,\n",
       " <matplotlib.lines.Line2D at 0x127916040>,\n",
       " <matplotlib.lines.Line2D at 0x127916130>]"
      ]
     },
     "execution_count": 22,
     "metadata": {},
     "output_type": "execute_result"
    },
    {
     "data": {
      "image/png": "[encoded data removed]",
      "text/plain": [
       "<Figure size 640x480 with 1 Axes>"
      ]
     },
     "metadata": {},
     "output_type": "display_data"
    }
   ],
   "source": [
    "# Generate random Gaussian noise\n",
    "noise = np.random.normal(50, 12,size=(1,100)).astype(np.uint8)\n",
    "noise\n",
    "plt.plot(noise)"
   ]
  },
  {
   "cell_type": "code",
   "execution_count": null,
   "metadata": {},
   "outputs": [],
   "source": []
  }
 ],
 "metadata": {
  "kernelspec": {
   "display_name": "Python 3",
   "language": "python",
   "name": "python3"
  },
  "language_info": {
   "codemirror_mode": {
    "name": "ipython",
    "version": 3
   },
   "file_extension": ".py",
   "mimetype": "text/x-python",
   "name": "python",
   "nbconvert_exporter": "python",
   "pygments_lexer": "ipython3",
   "version": "3.9.6"
  },
  "orig_nbformat": 4
 },
 "nbformat": 4,
 "nbformat_minor": 2
}
